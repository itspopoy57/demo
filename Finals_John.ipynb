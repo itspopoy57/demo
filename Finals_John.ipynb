{
 "cells": [
  {
   "cell_type": "code",
   "execution_count": 19,
   "metadata": {},
   "outputs": [
    {
     "name": "stdout",
     "output_type": "stream",
     "text": [
      "Exercise 1\n",
      "==Convert It!==\n",
      "Created by JOhn Kenneth Falcasantos\n",
      "Input hours: 2\n",
      "Input minutes: 0\n",
      "is equivalent to :  7200 seconds!\n"
     ]
    }
   ],
   "source": [
    "print(\"Exercise 1\")\n",
    "print(\"==Convert It!==\")\n",
    "print(\"Created by JOhn Kenneth Falcasantos\")\n",
    "\n",
    "hours = int(input(\"Input hours: \")) \n",
    "minutes = int(input(\"Input minutes: \")) \n",
    "\n",
    "sec = ((hours*3600)+(minutes*60))\n",
    "\n",
    "if(hours < 0 or minutes < 0):\n",
    "    print(\"error!\")\n",
    "    quit()\n",
    "\n",
    "else:\n",
    "    print(\"is equivalent to : \", sec , \"seconds!\")\n",
    "    \n",
    "    \n",
    "    \n"
   ]
  },
  {
   "cell_type": "code",
   "execution_count": 5,
   "metadata": {},
   "outputs": [
    {
     "name": "stdout",
     "output_type": "stream",
     "text": [
      "Exercise 2\n",
      "==Grades!==\n",
      "Created by JOhn Kenneth Falcasantos\n",
      "Input Grade!: -20\n",
      "this is an error please try again! :\n",
      "Input Grade!: 600\n",
      "this is an error please try again! :\n",
      "Input Grade!: 20\n",
      "You Fail! Study hard!\n",
      "with the grade of:  20\n"
     ]
    }
   ],
   "source": [
    "print(\"Exercise 2\")\n",
    "print(\"==Grades!==\")\n",
    "print(\"Created by JOhn Kenneth Falcasantos\")\n",
    "\n",
    "\n",
    "ctrl = False\n",
    "\n",
    "while(ctrl == False):\n",
    "    grade = int(input(\"Input Grade : \"))\n",
    "    \n",
    "    if(grade < 0 or grade > 100):\n",
    "        print(\"this is an error please try again! :\")\n",
    "    elif(grade >= 0):\n",
    "        \n",
    "        if(grade >= 60):\n",
    "            print(\"You pass!\")\n",
    "            ctrl = True\n",
    "        else:\n",
    "            print(\"You Fail! Study hard!\")\n",
    "            ctrl = True\n",
    "\n",
    "print(\"with the grade of: \", grade )\n",
    "    "
   ]
  },
  {
   "cell_type": "code",
   "execution_count": 18,
   "metadata": {},
   "outputs": [
    {
     "name": "stdout",
     "output_type": "stream",
     "text": [
      "Exercise 3\n",
      "==Fibonacchi!!==\n",
      "Created by JOhn Kenneth Falcasantos\n",
      "Input a number : 10\n",
      "[0, 1, 1, 2, 3, 5, 8, 13, 21, 34]\n"
     ]
    }
   ],
   "source": [
    "\n",
    "print(\"Exercise 3\")\n",
    "print(\"==Fibonacchi!!==\")\n",
    "print(\"Created by JOhn Kenneth Falcasantos\")\n",
    "\n",
    "seq = int(input(\"Input a number : \"))\n",
    "\n",
    "sequence=[0,1]\n",
    "\n",
    "for i in range(3,seq+1):\n",
    "    next_num = sequence[-1] + sequence[-2]\n",
    "    sequence.append(next_num)\n",
    "    \n",
    "print(sequence)\n"
   ]
  },
  {
   "cell_type": "code",
   "execution_count": 10,
   "metadata": {},
   "outputs": [
    {
     "name": "stdout",
     "output_type": "stream",
     "text": [
      "Exercise 4\n",
      "==Leap Year!==\n",
      "Created by JOhn Kenneth Falcasantos\n",
      "Enter the year to check! : 2005\n",
      "===\n",
      "the year is not a leap Year!\n",
      "===\n"
     ]
    }
   ],
   "source": [
    "\n",
    "print(\"Exercise 4\")\n",
    "print(\"==Leap Year!==\")\n",
    "print(\"Created by JOhn Kenneth Falcasantos\")\n",
    "\n",
    "year = int(input(\"Enter the year to check! : \"))\n",
    "\n",
    "if(year%4==0 and year%100==0 and year%400==0):\n",
    "    print(\"===\")\n",
    "    print(\"its a leap year!! yey!\")\n",
    "    print(\"===\")\n",
    "    \n",
    "elif(year%4==0 and year%100!=0 ):\n",
    "    print(\"===\")\n",
    "    print(\"its a leap year!! yey!\")\n",
    "    print(\"===\")\n",
    "    \n",
    "else:\n",
    "    print(\"===\")\n",
    "    print(\"the year is not a leap Year!\")\n",
    "    print(\"===\")\n"
   ]
  },
  {
   "cell_type": "code",
   "execution_count": null,
   "metadata": {},
   "outputs": [],
   "source": []
  }
 ],
 "metadata": {
  "kernelspec": {
   "display_name": "Python 3",
   "language": "python",
   "name": "python3"
  },
  "language_info": {
   "codemirror_mode": {
    "name": "ipython",
    "version": 3
   },
   "file_extension": ".py",
   "mimetype": "text/x-python",
   "name": "python",
   "nbconvert_exporter": "python",
   "pygments_lexer": "ipython3",
   "version": "3.8.5"
  }
 },
 "nbformat": 4,
 "nbformat_minor": 4
}
